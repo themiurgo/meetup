{
 "cells": [
  {
   "cell_type": "markdown",
   "metadata": {
    "slideshow": {
     "slide_type": "slide"
    }
   },
   "source": [
    "# Exploring Tech / Non-Tech Meetup events\n",
    "\n",
    "## Antonio Lima\n",
    "\n",
    "[@themiurgo](https://twitter.com/themiurgo)\n",
    "\n",
    "http://cs.bham.ac.uk/axl162\n"
   ]
  },
  {
   "cell_type": "code",
   "execution_count": 14,
   "metadata": {
    "collapsed": true
   },
   "outputs": [],
   "source": [
    "from IPython.display import IFrame"
   ]
  },
  {
   "cell_type": "markdown",
   "metadata": {},
   "source": [
    "# Introduction\n",
    "\n",
    "Meetup is a online social networking website that allows people to organize offline group meetings revolving around a common interest.\n",
    "\n",
    "Platforms like Meetup and Eventbrite can help researchers investigate interest related to a certain topic, as it changes in time and in different geographic areas. An earlier \n",
    "[analysis by Nesta](http://www.nesta.org.uk/blog/using-meetup-data-explore-uk-digital-tech-landscape), which focussed on tech-related meetings, has shown how it is possible to analyse their geography, and how the group creation trends can be linked to the emergence of new technologies.\n",
    "\n",
    "In this blog post I will present a preliminary investigation of Meetup data, investigating the following questions:\n",
    "\n",
    "- Where and when do people meet?\n",
    "- Is there a difference between results obtained from tech-related and non-tech related meetings?"
   ]
  },
  {
   "cell_type": "markdown",
   "metadata": {},
   "source": [
    "## Data\n",
    "\n",
    "Since Meetup API Python library has been discontinued, I wrote an [alternative API](http://github.com/themiurgo/meetup) which includes rate-limiting and allows to obtain extensive amount of data from Meetup API.\n",
    "\n",
    "I then collected the 200 most-populated cities and towns in the UK and in the world. I also collected meetup groups in the UK and event information, obtaining a dataset of 13844 groups, of which 1559 are tech-related and others belong to one of the following categories:\n",
    "\n",
    "    arts-culture career-business cars-motorcycles community-environment dancing education-learning fashion-beauty fitness food-drink games lgbt government-politics health-wellbeing hobbies-crafts language lifestyle book-clubs movies-film music new-age-spirituality outdoors-adventure paranormal parents-family pets-animals photography religion-beliefs sci-fi-fantasy singles socializing sports-recreation support writing\n",
    "\n",
    "While I was also interested in obtaining the attendance information for all categories, to investigate the role of [structural holes](https://en.wikipedia.org/wiki/Structural_holes) as inter-categories information brokers, I had to refrain from this because it would have taken more than a week to download this data."
   ]
  },
  {
   "cell_type": "markdown",
   "metadata": {},
   "source": [
    "## In which cities is Meetup most popular?\n",
    "\n",
    "The first question of this analysis is: how are members of Meetup distributed among cities? This question is very important because all analysis based on Meetup data will be influenced by geographic biases. If Meetup is vastly more popular in a city than in another, for example because users prefer a competing service like Eventbrite, this will affect geographic analyses.\n",
    "\n",
    "In the plot below I show the number of Meetup users in a city versus the city population, in log-log scale, for the 200 most popular cities in Meetup. The plot highlights in green the top 10 cities, mostly based in the United States, and in orange the UK cities present in the list.\n",
    "\n",
    "<div style='text-align: center'>\n",
    "<img src=\"http://themiurgo.github.io/meetup/figures/scatterplot_cities.pdf\" style='width: 600px'>\n",
    "</div>\n",
    "\n",
    "The plot shows a very weak relation between a city population and the number of Meetup users. The top 10 cities show very high number of members, even if their city population greatly varies within 2 orders of magnitude. Also UK cities show great variability in the number of members, with London vastly dominating and other cities showing a markedly lower number of users.\n",
    "\n",
    "It would be interesting to continue in this direction and understand what drives Meetup popularity, for example investigating for example whether a [Network Effect](https://en.wikipedia.org/wiki/Network_effect) influences user adoption of the platform."
   ]
  },
  {
   "cell_type": "markdown",
   "metadata": {},
   "source": [
    "## When do people meet?"
   ]
  },
  {
   "cell_type": "markdown",
   "metadata": {},
   "source": [
    "In order to answer this question, I plot below the time-related properties of events held by tech-related and non-tech related Meetup groups.\n",
    "\n",
    "<div style='text-align: center'>\n",
    "<img src=\"http://themiurgo.github.io/meetup/figures/when.pdf\">\n",
    "</div>\n",
    "\n",
    "While both types of event seem to occur more freqently in the afternoons, and less frequently on Mondays, we can see that the tech events show lower activity on weekends and during the months of August and December. This result suggests that tech events are very much treated as work-related, as not many events are organised outside working days, whereas non-tech events do not show this phenomenon as markedly. \n",
    "\n",
    "It would be interesting to continue investigation in this direction, trying to understand to which degree meetings about various topics are treated by attenders as work-related or leisure. More insights might be found examining online group interactions, by means of methods of Social Network Analysis and Natural Language Processing."
   ]
  },
  {
   "cell_type": "markdown",
   "metadata": {
    "slideshow": {
     "slide_type": "slide"
    }
   },
   "source": [
    "## Where do people meet?\n"
   ]
  },
  {
   "cell_type": "code",
   "execution_count": 18,
   "metadata": {
    "collapsed": false,
    "slideshow": {
     "slide_type": "slide"
    }
   },
   "outputs": [
    {
     "data": {
      "text/html": [
       "\n",
       "        <iframe\n",
       "            width=\"800\"\n",
       "            height=\"400\"\n",
       "            src=\"http://themiurgo.github.io/meetup/figures/map_tech_events.html\"\n",
       "            frameborder=\"0\"\n",
       "            allowfullscreen\n",
       "        ></iframe>\n",
       "        "
      ],
      "text/plain": [
       "<IPython.lib.display.IFrame at 0x103445810>"
      ]
     },
     "execution_count": 18,
     "metadata": {},
     "output_type": "execute_result"
    }
   ],
   "source": [
    "IFrame('http://themiurgo.github.io/meetup/figures/map_tech_events.html', width=800, height=400)"
   ]
  },
  {
   "cell_type": "markdown",
   "metadata": {
    "slideshow": {
     "slide_type": "notes"
    }
   },
   "source": [
    "The spatial distribution of 1000 randomly chosen *tech-related* events."
   ]
  },
  {
   "cell_type": "code",
   "execution_count": 20,
   "metadata": {
    "collapsed": false,
    "slideshow": {
     "slide_type": "slide"
    }
   },
   "outputs": [
    {
     "data": {
      "text/html": [
       "\n",
       "        <iframe\n",
       "            width=\"800\"\n",
       "            height=\"400\"\n",
       "            src=\"http://themiurgo.github.io/meetup/figures/map_nontech_events.html\"\n",
       "            frameborder=\"0\"\n",
       "            allowfullscreen\n",
       "        ></iframe>\n",
       "        "
      ],
      "text/plain": [
       "<IPython.lib.display.IFrame at 0x103445410>"
      ]
     },
     "execution_count": 20,
     "metadata": {},
     "output_type": "execute_result"
    }
   ],
   "source": [
    "IFrame('http://themiurgo.github.io/meetup/figures/map_nontech_events.html', width=800, height=400)"
   ]
  },
  {
   "cell_type": "markdown",
   "metadata": {},
   "source": [
    "The spatial distribution of 1000 randomly chosen *non-tech-related* events."
   ]
  },
  {
   "cell_type": "markdown",
   "metadata": {},
   "source": [
    "Both categories of events are predominantly held in London. Tech events are sometimes held abroad. A large fraction of tech events are clustered around areas of Shoreditch and Clerkenwell, whereas non-tech events are mostly held around Chinatown."
   ]
  },
  {
   "cell_type": "markdown",
   "metadata": {},
   "source": [
    "# Conclusion\n",
    "\n",
    "This preliminary analysis has shown that:\n",
    "\n",
    "- Tech meetings have different properties than non-tech-related events, both in terms of spatial distribution and temporal patterns.\n",
    "- Tech meetings are held in proximity of tech hubs, and at end of workdays. The low number of meetings during weekends and holidays, especially compared to non-tech events, suggests that attenders regard such events as work-related.\n",
    "- Future investigation might be aimed at a better understanding of these aspects and how they affect group popularity."
   ]
  }
 ],
 "metadata": {
  "kernelspec": {
   "display_name": "Python 2",
   "language": "python",
   "name": "python2"
  },
  "language_info": {
   "codemirror_mode": {
    "name": "ipython",
    "version": 2
   },
   "file_extension": ".py",
   "mimetype": "text/x-python",
   "name": "python",
   "nbconvert_exporter": "python",
   "pygments_lexer": "ipython2",
   "version": "2.7.11"
  }
 },
 "nbformat": 4,
 "nbformat_minor": 0
}
